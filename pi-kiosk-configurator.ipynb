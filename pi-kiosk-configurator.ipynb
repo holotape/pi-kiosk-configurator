{
 "cells": [
  {
   "cell_type": "markdown",
   "metadata": {},
   "source": [
    "#Setting up Flask web app on rpi\n"
   ]
  },
  {
   "cell_type": "code",
   "execution_count": 1,
   "metadata": {},
   "outputs": [],
   "source": [
    "# Python code cell\n",
    "\n",
    "# Prompt the user for a script name\n",
    "script_name = input(\"Enter a name for your script: \")\n",
    "\n",
    "# Add the .sh extension if it's not there already\n",
    "if not script_name.endswith('.sh'):\n",
    "    script_name += '.sh'\n",
    "\n",
    "# Initialize the shell script\n",
    "shell_script = \"#!/bin/bash\\n\"\n",
    "\n",
    "print(f\"Your script will be saved as {script_name}\")\n"
   ]
  },
  {
   "cell_type": "code",
   "execution_count": null,
   "metadata": {},
   "outputs": [],
   "source": [
    "# Python code cell\n",
    "\n",
    "# Append the update and install commands to the shell script\n",
    "shell_script += \"\"\"\n",
    "# Update packages and upgrade the system\n",
    "sudo apt update && sudo apt upgrade\n",
    "\n",
    "# Install necessary packages\n",
    "sudo apt install matchbox-window-manager chromium-browser unclutter xinit\n",
    "\"\"\"\n"
   ]
  }
 ],
 "metadata": {
  "kernelspec": {
   "display_name": "Python 3",
   "language": "python",
   "name": "python3"
  },
  "language_info": {
   "codemirror_mode": {
    "name": "ipython",
    "version": 3
   },
   "file_extension": ".py",
   "mimetype": "text/x-python",
   "name": "python",
   "nbconvert_exporter": "python",
   "pygments_lexer": "ipython3",
   "version": "3.10.11"
  },
  "orig_nbformat": 4
 },
 "nbformat": 4,
 "nbformat_minor": 2
}
